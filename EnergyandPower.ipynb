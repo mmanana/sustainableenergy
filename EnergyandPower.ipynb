{
 "cells": [
  {
   "cell_type": "markdown",
   "metadata": {},
   "source": [
    "# Energy and Power"
   ]
  },
  {
   "cell_type": "code",
   "execution_count": 1,
   "metadata": {
    "collapsed": false
   },
   "outputs": [
    {
     "name": "stdout",
     "output_type": "stream",
     "text": [
      "3.5.2 |Anaconda 4.2.0 (64-bit)| (default, Jul  5 2016, 11:41:13) [MSC v.1900 64 bit (AMD64)]\n"
     ]
    }
   ],
   "source": [
    "import sys\n",
    "print(sys.version)"
   ]
  },
  {
   "cell_type": "markdown",
   "metadata": {},
   "source": [
    "## Energy"
   ]
  },
  {
   "cell_type": "markdown",
   "metadata": {},
   "source": [
    "What is the rated power of a lamp that demands 1 kWh during one day?"
   ]
  },
  {
   "cell_type": "code",
   "execution_count": 15,
   "metadata": {
    "collapsed": false
   },
   "outputs": [
    {
     "name": "stdout",
     "output_type": "stream",
     "text": [
      "Rated power: 41.67 W. It is equivalent to 1 kWh/d\n"
     ]
    }
   ],
   "source": [
    "Energy=1\n",
    "time=24\n",
    "Power=Energy*1000/time\n",
    "print('Rated power: ' + str(round(Power,2)) + ' W. It is equivalent to ' + str(Energy) + ' kWh/d')"
   ]
  },
  {
   "cell_type": "markdown",
   "metadata": {
    "collapsed": true
   },
   "source": [
    "What is the factor for converting kWh in kJ"
   ]
  },
  {
   "cell_type": "markdown",
   "metadata": {},
   "source": [
    "1 $kWh \\frac{10^3 W}{1 kW} \\frac{3600 s}{1 h} = 3.6 \\, MJ = 3600 \\, kJ$  "
   ]
  },
  {
   "cell_type": "code",
   "execution_count": 1,
   "metadata": {
    "collapsed": true
   },
   "outputs": [],
   "source": [
    "kWh2kJ=3600"
   ]
  },
  {
   "cell_type": "code",
   "execution_count": 2,
   "metadata": {
    "collapsed": true
   },
   "outputs": [],
   "source": [
    "kJ2kcal=0.239"
   ]
  },
  {
   "cell_type": "markdown",
   "metadata": {},
   "source": [
    "The office room has 100 LED lamps with an individual nominal power of 4.167 W. If the cost of the Energy is 10 cents of dollar per kWh. What is the cost of 24 hours of lighting?"
   ]
  },
  {
   "cell_type": "code",
   "execution_count": 1,
   "metadata": {
    "collapsed": false
   },
   "outputs": [
    {
     "name": "stdout",
     "output_type": "stream",
     "text": [
      "Energy: 10.0 kWh\n",
      "Cost: 1.0 dollars\n"
     ]
    }
   ],
   "source": [
    "N=100\n",
    "P1=4.167\n",
    "cE=10\n",
    "\n",
    "P=P1*N\n",
    "E=P*24/1000.0\n",
    "print('Energy: ' + str(round(E,2)) + ' kWh')\n",
    "cost=E*cE/100.0\n",
    "print('Cost: ' + str(round(cost,2)) + ' dollars')"
   ]
  },
  {
   "cell_type": "markdown",
   "metadata": {},
   "source": [
    "The global cumulative wind installed capacity is over 500,000 MW. What is the total energy generated during one day?"
   ]
  },
  {
   "cell_type": "code",
   "execution_count": 8,
   "metadata": {
    "collapsed": false
   },
   "outputs": [
    {
     "name": "stdout",
     "output_type": "stream",
     "text": [
      "Energy in one day: 12000000 MWh\n"
     ]
    }
   ],
   "source": [
    "P=500000\n",
    "time=24\n",
    "E=P*time\n",
    "print('Energy in one day: ' + str(E) + ' MWh')"
   ]
  }
 ],
 "metadata": {
  "anaconda-cloud": {},
  "kernelspec": {
   "display_name": "Python [default]",
   "language": "python",
   "name": "python3"
  },
  "language_info": {
   "codemirror_mode": {
    "name": "ipython",
    "version": 3
   },
   "file_extension": ".py",
   "mimetype": "text/x-python",
   "name": "python",
   "nbconvert_exporter": "python",
   "pygments_lexer": "ipython3",
   "version": "3.5.2"
  }
 },
 "nbformat": 4,
 "nbformat_minor": 1
}
