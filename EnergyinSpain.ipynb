{
 "cells": [
  {
   "cell_type": "markdown",
   "metadata": {},
   "source": [
    "# Energy in Spain. 2016"
   ]
  },
  {
   "cell_type": "markdown",
   "metadata": {},
   "source": [
    "Source of data: \n",
    "\n",
    "* ENERGIA 2016. Foro nuclear español. www.foronuclear.org\n",
    "* Wikipedia"
   ]
  },
  {
   "cell_type": "markdown",
   "metadata": {},
   "source": [
    "# Spain. Basic data"
   ]
  },
  {
   "cell_type": "code",
   "execution_count": 4,
   "metadata": {
    "collapsed": false
   },
   "outputs": [
    {
     "name": "stdout",
     "output_type": "stream",
     "text": [
      "Spanish population: 46560000.0\n",
      "Total area: 505370 km^2\n",
      "Density: 92.13 p/km^2\n",
      "Density: 0.0 p/m^2\n",
      "Density: 10854.17 m^2/p\n"
     ]
    }
   ],
   "source": [
    "population = 46.56*(10**6)\n",
    "print('Spanish population: ' + str(round(population,0)))\n",
    "area = 505370\n",
    "print('Total area: ' + str(round(area,2)) + ' km^2')\n",
    "density = population/area\n",
    "print('Density: ' + str(round(density,2)) + ' p/km^2')\n",
    "aream2 = area*1000*1000\n",
    "densitym2 = population/aream2\n",
    "print('Density: ' + str(round(densitym2,2)) + ' p/m^2')\n",
    "print('Density: ' + str(round(1/densitym2,2)) + ' m^2/p')"
   ]
  },
  {
   "cell_type": "code",
   "execution_count": 5,
   "metadata": {
    "collapsed": false
   },
   "outputs": [],
   "source": [
    "Eproduction=281.15\n",
    "Ep_conventional=Eproduction*62.7/100.0\n",
    "Ep_renewable=Eproduction*37.3/100.0"
   ]
  },
  {
   "cell_type": "code",
   "execution_count": 8,
   "metadata": {
    "collapsed": false
   },
   "outputs": [
    {
     "name": "stdout",
     "output_type": "stream",
     "text": [
      "Energy production: 281.15 TWh\n",
      "Energy production (conventional): 176.28 TWh\n",
      "Energy production (renewable): 104.87 TWh\n"
     ]
    }
   ],
   "source": [
    "print('Energy production: ' + str(Eproduction) + ' TWh')\n",
    "print('Energy production (conventional): ' + str(round(Ep_conventional,2)) + ' TWh')\n",
    "print('Energy production (renewable): ' + str(round(Ep_renewable,2)) + ' TWh')"
   ]
  },
  {
   "cell_type": "markdown",
   "metadata": {},
   "source": [
    "# Daily use of car"
   ]
  },
  {
   "cell_type": "markdown",
   "metadata": {
    "collapsed": true
   },
   "source": [
    "A typical one-day Spanish displacement is over 50 km"
   ]
  },
  {
   "cell_type": "code",
   "execution_count": 2,
   "metadata": {
    "collapsed": true
   },
   "outputs": [],
   "source": [
    "onedaydistance=50.0\n",
    "litre2kwh=10.0\n",
    "carconsumptionper100km=6.0"
   ]
  },
  {
   "cell_type": "code",
   "execution_count": 5,
   "metadata": {
    "collapsed": false
   },
   "outputs": [
    {
     "name": "stdout",
     "output_type": "stream",
     "text": [
      "Energy per day and person: 30.0 kWh/day per person\n"
     ]
    }
   ],
   "source": [
    "EnergyPerDay=onedaydistance*(carconsumptionper100km/100.0)*litre2kwh\n",
    "print('Energy per day and person: ' + str(round(EnergyPerDay,2)) + ' kWh/day per person')"
   ]
  },
  {
   "cell_type": "markdown",
   "metadata": {},
   "source": [
    "# One intercontinental trip a year"
   ]
  },
  {
   "cell_type": "markdown",
   "metadata": {},
   "source": [
    "One intercontinental trip in an Airbus A310-200\n",
    "\n",
    "240 passengers. 55,200 litres of fuel. Range of 6,800 km"
   ]
  },
  {
   "cell_type": "code",
   "execution_count": 6,
   "metadata": {
    "collapsed": false
   },
   "outputs": [
    {
     "name": "stdout",
     "output_type": "stream",
     "text": [
      "Plane consumption per 100 km: 811.76 litres\n"
     ]
    }
   ],
   "source": [
    "planeconsumptionper100km=100.0*55200/6800\n",
    "print('Plane consumption per 100 km: ' + str(round(planeconsumptionper100km,2)) + ' litres')"
   ]
  },
  {
   "cell_type": "markdown",
   "metadata": {},
   "source": [
    "A trip from Madrid to Los Angeles, CA has a distance equal to 9,366 km"
   ]
  },
  {
   "cell_type": "code",
   "execution_count": 8,
   "metadata": {
    "collapsed": false
   },
   "outputs": [
    {
     "name": "stdout",
     "output_type": "stream",
     "text": [
      "Energy consumption in a trip from Madrid to Los Angeles, CA: 3167.91 kWh\n"
     ]
    }
   ],
   "source": [
    "distance=9366\n",
    "passengers=240\n",
    "personplaneconsumptionper100km = planeconsumptionper100km/passengers\n",
    "EnergytripMLA = 9366*(personplaneconsumptionper100km/100.0)*litre2kwh\n",
    "print('Energy consumption in a trip from Madrid to Los Angeles, CA: ' + str(round(EnergytripMLA,2)) + ' kWh')"
   ]
  },
  {
   "cell_type": "markdown",
   "metadata": {},
   "source": [
    "If a person performs one trip a year"
   ]
  },
  {
   "cell_type": "code",
   "execution_count": 9,
   "metadata": {
    "collapsed": false
   },
   "outputs": [
    {
     "name": "stdout",
     "output_type": "stream",
     "text": [
      "Energy consumption per day and person: 8.68 kWh/day\n"
     ]
    }
   ],
   "source": [
    "EnergytripMLAperday = EnergytripMLA / 365.0\n",
    "print('Energy consumption per day and person: ' + str(round(EnergytripMLAperday,2)) + ' kWh/day')"
   ]
  },
  {
   "cell_type": "markdown",
   "metadata": {},
   "source": [
    "# The \"energy cost\" of one shower"
   ]
  },
  {
   "cell_type": "markdown",
   "metadata": {},
   "source": [
    "One shower"
   ]
  },
  {
   "cell_type": "markdown",
   "metadata": {},
   "source": [
    "hot water: 4,200  per litre per ºC"
   ]
  },
  {
   "cell_type": "code",
   "execution_count": 10,
   "metadata": {
    "collapsed": false
   },
   "outputs": [
    {
     "name": "stdout",
     "output_type": "stream",
     "text": [
      "Energy demanded in one shower: 1.22  kWh\n"
     ]
    }
   ],
   "source": [
    "oneshowerlitres=35.0\n",
    "calorieslitredegree=4200.0\n",
    "j2kwh=1/(1000.0*3600.0)\n",
    "Tamb=10.0\n",
    "Thot=40.0\n",
    "EnergyOneShower = calorieslitredegree*oneshowerlitres*(Thot-Tamb)*j2kwh\n",
    "print('Energy demanded in one shower: ' + str(round(EnergyOneShower,2)), ' kWh')"
   ]
  },
  {
   "cell_type": "markdown",
   "metadata": {},
   "source": [
    "# The \"energy cost\" of a cup of tea"
   ]
  },
  {
   "cell_type": "markdown",
   "metadata": {},
   "source": [
    "One kettle"
   ]
  },
  {
   "cell_type": "code",
   "execution_count": 9,
   "metadata": {
    "collapsed": false
   },
   "outputs": [
    {
     "name": "stdout",
     "output_type": "stream",
     "text": [
      "Energy one cup of tea: 0.27 kWh\n"
     ]
    }
   ],
   "source": [
    "Pn=1.65\n",
    "timecup=2\n",
    "Numbercups=5\n",
    "EnergyOneCup=Pn*(timecup/60.0)*Numbercups\n",
    "print('Energy one cup of tea: ' + str(round(EnergyOneCup,2)) + ' kWh')"
   ]
  }
 ],
 "metadata": {
  "anaconda-cloud": {},
  "kernelspec": {
   "display_name": "Python [default]",
   "language": "python",
   "name": "python3"
  },
  "language_info": {
   "codemirror_mode": {
    "name": "ipython",
    "version": 3
   },
   "file_extension": ".py",
   "mimetype": "text/x-python",
   "name": "python",
   "nbconvert_exporter": "python",
   "pygments_lexer": "ipython3",
   "version": "3.5.2"
  }
 },
 "nbformat": 4,
 "nbformat_minor": 1
}
